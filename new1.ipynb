{
 "cells": [
  {
   "cell_type": "code",
   "execution_count": 33,
   "id": "2ff69176-ef3f-47bf-88e2-4cc55619b07a",
   "metadata": {},
   "outputs": [],
   "source": [
    "import pandas as pd\n",
    "import numpy as np"
   ]
  },
  {
   "cell_type": "code",
   "execution_count": 167,
   "id": "1f8e71ab-2c10-4aba-8804-750c59507a70",
   "metadata": {},
   "outputs": [],
   "source": [
    "test = pd.read_csv('test.csv')\n",
    "train = pd.read_csv('train.csv')\n",
    "test.drop('Cabin', axis = 1, inplace = True)\n",
    "train.drop('Cabin', axis = 1, inplace = True)\n",
    "test['Age'].fillna(test['Age'].median(), inplace = True)\n",
    "train['Age'].fillna(train['Age'].median(), inplace = True)\n",
    "test['Fare'].fillna(test['Fare'].mean(), inplace = True)\n",
    "train['Fare'].fillna(train['Fare'].mean(), inplace = True)\n",
    "# del train['Cabin']\n",
    "# test = test.dropna()\n",
    "# train = train.dropna()"
   ]
  },
  {
   "cell_type": "code",
   "execution_count": 177,
   "id": "5bab4436-0887-439e-9102-33995f323090",
   "metadata": {},
   "outputs": [
    {
     "data": {
      "text/plain": [
       "143"
      ]
     },
     "execution_count": 177,
     "metadata": {},
     "output_type": "execute_result"
    }
   ],
   "source": [
    "from sklearn.ensemble import RandomForestClassifier as RFC\n",
    "\n",
    "\n",
    "\n",
    "features = [\"Pclass\", \"Sex\", \"SibSp\", \"Parch\", \"Age\", \"Fare\", \"Embarked\"]\n",
    "y = train[\"Survived\"]\n",
    "\n",
    "X = pd.get_dummies(train[features])\n",
    "X_test = pd.get_dummies(test[features])\n",
    "\n",
    "model = RFC(n_estimators=1000, max_depth=5, random_state=1)\n",
    "model.fit(X, y)\n",
    "predictions = model.predict(X_test)\n",
    "\n",
    "output = pd.DataFrame({'PassengerId': test.PassengerId, 'Survived': predictions})\n",
    "output.to_csv('submission1.csv', index=False)\n",
    "sum(output['Survived'])\n"
   ]
  },
  {
   "cell_type": "code",
   "execution_count": 162,
   "id": "435868c6-a407-402a-b511-7336bf399ab3",
   "metadata": {},
   "outputs": [
    {
     "data": {
      "text/plain": [
       "array([1, 2, 2, 6])"
      ]
     },
     "execution_count": 162,
     "metadata": {},
     "output_type": "execute_result"
    }
   ],
   "source": [
    "from sklearn import preprocessing\n",
    "le = preprocessing.LabelEncoder()\n",
    "le.fit([1,1,2,6])\n",
    "le.inverse_transform([0,1,1,2])"
   ]
  },
  {
   "cell_type": "code",
   "execution_count": null,
   "id": "98d90e43-22ba-4d58-a574-ec4e63ea72b4",
   "metadata": {},
   "outputs": [],
   "source": []
  }
 ],
 "metadata": {
  "kernelspec": {
   "display_name": "Python 3 (ipykernel)",
   "language": "python",
   "name": "python3"
  },
  "language_info": {
   "codemirror_mode": {
    "name": "ipython",
    "version": 3
   },
   "file_extension": ".py",
   "mimetype": "text/x-python",
   "name": "python",
   "nbconvert_exporter": "python",
   "pygments_lexer": "ipython3",
   "version": "3.9.7"
  }
 },
 "nbformat": 4,
 "nbformat_minor": 5
}
